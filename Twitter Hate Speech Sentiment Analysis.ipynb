{
  "nbformat": 4,
  "nbformat_minor": 0,
  "metadata": {
    "colab": {
      "name": "Machine Learning Group 6 Exploration SVM LSTM",
      "provenance": []
    },
    "kernelspec": {
      "name": "python3",
      "display_name": "Python 3"
    },
    "language_info": {
      "name": "python"
    }
  },
  "cells": [
    {
      "cell_type": "code",
      "execution_count": 1,
      "metadata": {
        "colab": {
          "base_uri": "https://localhost:8080/"
        },
        "id": "fUxEKmFUTva0",
        "outputId": "b69a2993-97d9-4d7e-ad8a-3af1bc6e9bf9"
      },
      "outputs": [
        {
          "output_type": "stream",
          "name": "stdout",
          "text": [
            "[nltk_data] Downloading package averaged_perceptron_tagger to\n",
            "[nltk_data]     /root/nltk_data...\n",
            "[nltk_data]   Package averaged_perceptron_tagger is already up-to-\n",
            "[nltk_data]       date!\n",
            "[nltk_data] Downloading package stopwords to /root/nltk_data...\n",
            "[nltk_data]   Package stopwords is already up-to-date!\n",
            "[nltk_data] Downloading package wordnet to /root/nltk_data...\n",
            "[nltk_data]   Package wordnet is already up-to-date!\n"
          ]
        },
        {
          "output_type": "execute_result",
          "data": {
            "text/plain": [
              "True"
            ]
          },
          "metadata": {},
          "execution_count": 1
        }
      ],
      "source": [
        "import csv\n",
        "import nltk\n",
        "import re\n",
        "from nltk.tokenize import word_tokenize\n",
        "import numpy as np\n",
        "import pandas as pd\n",
        "from collections import defaultdict\n",
        "from nltk.tokenize import TweetTokenizer\n",
        "from nltk.corpus import stopwords\n",
        "from nltk.corpus import wordnet as wn\n",
        "from nltk.tag import pos_tag\n",
        "from nltk.stem import WordNetLemmatizer\n",
        "\n",
        "from sklearn.feature_extraction.text import CountVectorizer\n",
        "from sklearn.linear_model import LogisticRegression\n",
        "from sklearn.svm import SVC\n",
        "from sklearn.model_selection import cross_val_score, train_test_split\n",
        "from sklearn.metrics import make_scorer, accuracy_score, f1_score, precision_score, recall_score, confusion_matrix, classification_report\n",
        "from imblearn.over_sampling import SMOTE\n",
        "import matplotlib.pyplot as plt\n",
        "import csv\n",
        "import numpy as np\n",
        "from keras import regularizers\n",
        "from keras.callbacks import EarlyStopping, ModelCheckpoint\n",
        "from keras.layers import Dense, Dropout, Embedding, GRU, SimpleRNN, RNN, LSTM, Flatten, Activation\n",
        "from keras.models import Sequential\n",
        "from keras.wrappers.scikit_learn import KerasClassifier\n",
        "from keras_preprocessing.sequence import pad_sequences\n",
        "from keras_preprocessing.text import Tokenizer\n",
        "from sklearn.metrics import f1_score, precision_score, recall_score, precision_recall_fscore_support\n",
        "# from baseline import bong\n",
        "from sklearn.model_selection import StratifiedKFold\n",
        "from sklearn.preprocessing import LabelEncoder\n",
        "import time\n",
        "nltk.download('averaged_perceptron_tagger')\n",
        "nltk.download('stopwords')\n",
        "nltk.download('wordnet')"
      ]
    },
    {
      "cell_type": "code",
      "source": [
        "with open('dev_en.tsv') as file1, \\\n",
        "     open('test_en.tsv') as file2, \\\n",
        "     open('train_en.tsv') as file3:\n",
        "     val_df = pd.read_csv(file1, sep='\\t+')\n",
        "     test_df = pd.read_csv(file2, sep='\\t+', header=None)\n",
        "     train_df = pd.read_csv(file3, sep='\\t+')\n",
        "\n",
        "test_df.columns = ['id', 'text','HS', 'TR','AG']"
      ],
      "metadata": {
        "colab": {
          "base_uri": "https://localhost:8080/"
        },
        "id": "jrWKgYyMUKEv",
        "outputId": "3466092d-6ac9-4574-c798-6575564802b4"
      },
      "execution_count": 2,
      "outputs": [
        {
          "output_type": "stream",
          "name": "stderr",
          "text": [
            "/usr/local/lib/python3.7/dist-packages/pandas/util/_decorators.py:311: ParserWarning: Falling back to the 'python' engine because the 'c' engine does not support regex separators (separators > 1 char and different from '\\s+' are interpreted as regex); you can avoid this warning by specifying engine='python'.\n",
            "  return func(*args, **kwargs)\n"
          ]
        }
      ]
    },
    {
      "cell_type": "code",
      "source": [
        "print( val_df.shape)\n",
        "print( test_df.shape)\n",
        "print(train_df.shape)"
      ],
      "metadata": {
        "id": "SgfWbgMYULFK",
        "colab": {
          "base_uri": "https://localhost:8080/"
        },
        "outputId": "dcd93ec2-6992-4473-a2c1-b141a7aaaff5"
      },
      "execution_count": 3,
      "outputs": [
        {
          "output_type": "stream",
          "name": "stdout",
          "text": [
            "(1000, 5)\n",
            "(2971, 5)\n",
            "(9000, 5)\n"
          ]
        }
      ]
    },
    {
      "cell_type": "code",
      "source": [
        "#quick description of the dataset attributes, and looking for non-null values\n",
        "train_df.info()"
      ],
      "metadata": {
        "id": "EXhoFrJbUNVw",
        "colab": {
          "base_uri": "https://localhost:8080/"
        },
        "outputId": "ab502b7d-b5e4-4cca-cd9f-05eb41416fe9"
      },
      "execution_count": 4,
      "outputs": [
        {
          "output_type": "stream",
          "name": "stdout",
          "text": [
            "<class 'pandas.core.frame.DataFrame'>\n",
            "RangeIndex: 9000 entries, 0 to 8999\n",
            "Data columns (total 5 columns):\n",
            " #   Column  Non-Null Count  Dtype \n",
            "---  ------  --------------  ----- \n",
            " 0   id      9000 non-null   int64 \n",
            " 1   text    9000 non-null   object\n",
            " 2   HS      9000 non-null   int64 \n",
            " 3   TR      9000 non-null   int64 \n",
            " 4   AG      9000 non-null   int64 \n",
            "dtypes: int64(4), object(1)\n",
            "memory usage: 351.7+ KB\n"
          ]
        }
      ]
    },
    {
      "cell_type": "code",
      "source": [
        "#checking missing values \n",
        "val_df.isnull().sum()\n",
        "test_df.isnull().sum()\n",
        "train_df.isnull().sum()"
      ],
      "metadata": {
        "id": "Sz0BLUBJUO9O",
        "colab": {
          "base_uri": "https://localhost:8080/"
        },
        "outputId": "a952580e-2e03-4bdc-aab7-c3e600b8b1cc"
      },
      "execution_count": 5,
      "outputs": [
        {
          "output_type": "execute_result",
          "data": {
            "text/plain": [
              "id      0\n",
              "text    0\n",
              "HS      0\n",
              "TR      0\n",
              "AG      0\n",
              "dtype: int64"
            ]
          },
          "metadata": {},
          "execution_count": 5
        }
      ]
    },
    {
      "cell_type": "code",
      "source": [
        "val_df.head()"
      ],
      "metadata": {
        "id": "BrwtlfHhUQqX",
        "colab": {
          "base_uri": "https://localhost:8080/",
          "height": 206
        },
        "outputId": "9d3ee68e-03a9-4f6d-a600-67ff1f592430"
      },
      "execution_count": 6,
      "outputs": [
        {
          "output_type": "execute_result",
          "data": {
            "text/plain": [
              "      id                                               text  HS  TR  AG\n",
              "0  18201  I swear I’m getting to places just in the nick...   0   0   0\n",
              "1  18202  I’m an immigrant — and Trump is right on immig...   0   0   0\n",
              "2  18203  #IllegalImmigrants #IllegalAliens #ElectoralSy...   1   0   1\n",
              "3  18204  @DRUDGE_REPORT We have our own invasion issues...   1   0   1\n",
              "4  18205  Worker Charged With Sexually Molesting Eight C...   0   0   0"
            ],
            "text/html": [
              "\n",
              "  <div id=\"df-d4ceed29-d367-46a3-95db-beae0a724ecd\">\n",
              "    <div class=\"colab-df-container\">\n",
              "      <div>\n",
              "<style scoped>\n",
              "    .dataframe tbody tr th:only-of-type {\n",
              "        vertical-align: middle;\n",
              "    }\n",
              "\n",
              "    .dataframe tbody tr th {\n",
              "        vertical-align: top;\n",
              "    }\n",
              "\n",
              "    .dataframe thead th {\n",
              "        text-align: right;\n",
              "    }\n",
              "</style>\n",
              "<table border=\"1\" class=\"dataframe\">\n",
              "  <thead>\n",
              "    <tr style=\"text-align: right;\">\n",
              "      <th></th>\n",
              "      <th>id</th>\n",
              "      <th>text</th>\n",
              "      <th>HS</th>\n",
              "      <th>TR</th>\n",
              "      <th>AG</th>\n",
              "    </tr>\n",
              "  </thead>\n",
              "  <tbody>\n",
              "    <tr>\n",
              "      <th>0</th>\n",
              "      <td>18201</td>\n",
              "      <td>I swear I’m getting to places just in the nick...</td>\n",
              "      <td>0</td>\n",
              "      <td>0</td>\n",
              "      <td>0</td>\n",
              "    </tr>\n",
              "    <tr>\n",
              "      <th>1</th>\n",
              "      <td>18202</td>\n",
              "      <td>I’m an immigrant — and Trump is right on immig...</td>\n",
              "      <td>0</td>\n",
              "      <td>0</td>\n",
              "      <td>0</td>\n",
              "    </tr>\n",
              "    <tr>\n",
              "      <th>2</th>\n",
              "      <td>18203</td>\n",
              "      <td>#IllegalImmigrants #IllegalAliens #ElectoralSy...</td>\n",
              "      <td>1</td>\n",
              "      <td>0</td>\n",
              "      <td>1</td>\n",
              "    </tr>\n",
              "    <tr>\n",
              "      <th>3</th>\n",
              "      <td>18204</td>\n",
              "      <td>@DRUDGE_REPORT We have our own invasion issues...</td>\n",
              "      <td>1</td>\n",
              "      <td>0</td>\n",
              "      <td>1</td>\n",
              "    </tr>\n",
              "    <tr>\n",
              "      <th>4</th>\n",
              "      <td>18205</td>\n",
              "      <td>Worker Charged With Sexually Molesting Eight C...</td>\n",
              "      <td>0</td>\n",
              "      <td>0</td>\n",
              "      <td>0</td>\n",
              "    </tr>\n",
              "  </tbody>\n",
              "</table>\n",
              "</div>\n",
              "      <button class=\"colab-df-convert\" onclick=\"convertToInteractive('df-d4ceed29-d367-46a3-95db-beae0a724ecd')\"\n",
              "              title=\"Convert this dataframe to an interactive table.\"\n",
              "              style=\"display:none;\">\n",
              "        \n",
              "  <svg xmlns=\"http://www.w3.org/2000/svg\" height=\"24px\"viewBox=\"0 0 24 24\"\n",
              "       width=\"24px\">\n",
              "    <path d=\"M0 0h24v24H0V0z\" fill=\"none\"/>\n",
              "    <path d=\"M18.56 5.44l.94 2.06.94-2.06 2.06-.94-2.06-.94-.94-2.06-.94 2.06-2.06.94zm-11 1L8.5 8.5l.94-2.06 2.06-.94-2.06-.94L8.5 2.5l-.94 2.06-2.06.94zm10 10l.94 2.06.94-2.06 2.06-.94-2.06-.94-.94-2.06-.94 2.06-2.06.94z\"/><path d=\"M17.41 7.96l-1.37-1.37c-.4-.4-.92-.59-1.43-.59-.52 0-1.04.2-1.43.59L10.3 9.45l-7.72 7.72c-.78.78-.78 2.05 0 2.83L4 21.41c.39.39.9.59 1.41.59.51 0 1.02-.2 1.41-.59l7.78-7.78 2.81-2.81c.8-.78.8-2.07 0-2.86zM5.41 20L4 18.59l7.72-7.72 1.47 1.35L5.41 20z\"/>\n",
              "  </svg>\n",
              "      </button>\n",
              "      \n",
              "  <style>\n",
              "    .colab-df-container {\n",
              "      display:flex;\n",
              "      flex-wrap:wrap;\n",
              "      gap: 12px;\n",
              "    }\n",
              "\n",
              "    .colab-df-convert {\n",
              "      background-color: #E8F0FE;\n",
              "      border: none;\n",
              "      border-radius: 50%;\n",
              "      cursor: pointer;\n",
              "      display: none;\n",
              "      fill: #1967D2;\n",
              "      height: 32px;\n",
              "      padding: 0 0 0 0;\n",
              "      width: 32px;\n",
              "    }\n",
              "\n",
              "    .colab-df-convert:hover {\n",
              "      background-color: #E2EBFA;\n",
              "      box-shadow: 0px 1px 2px rgba(60, 64, 67, 0.3), 0px 1px 3px 1px rgba(60, 64, 67, 0.15);\n",
              "      fill: #174EA6;\n",
              "    }\n",
              "\n",
              "    [theme=dark] .colab-df-convert {\n",
              "      background-color: #3B4455;\n",
              "      fill: #D2E3FC;\n",
              "    }\n",
              "\n",
              "    [theme=dark] .colab-df-convert:hover {\n",
              "      background-color: #434B5C;\n",
              "      box-shadow: 0px 1px 3px 1px rgba(0, 0, 0, 0.15);\n",
              "      filter: drop-shadow(0px 1px 2px rgba(0, 0, 0, 0.3));\n",
              "      fill: #FFFFFF;\n",
              "    }\n",
              "  </style>\n",
              "\n",
              "      <script>\n",
              "        const buttonEl =\n",
              "          document.querySelector('#df-d4ceed29-d367-46a3-95db-beae0a724ecd button.colab-df-convert');\n",
              "        buttonEl.style.display =\n",
              "          google.colab.kernel.accessAllowed ? 'block' : 'none';\n",
              "\n",
              "        async function convertToInteractive(key) {\n",
              "          const element = document.querySelector('#df-d4ceed29-d367-46a3-95db-beae0a724ecd');\n",
              "          const dataTable =\n",
              "            await google.colab.kernel.invokeFunction('convertToInteractive',\n",
              "                                                     [key], {});\n",
              "          if (!dataTable) return;\n",
              "\n",
              "          const docLinkHtml = 'Like what you see? Visit the ' +\n",
              "            '<a target=\"_blank\" href=https://colab.research.google.com/notebooks/data_table.ipynb>data table notebook</a>'\n",
              "            + ' to learn more about interactive tables.';\n",
              "          element.innerHTML = '';\n",
              "          dataTable['output_type'] = 'display_data';\n",
              "          await google.colab.output.renderOutput(dataTable, element);\n",
              "          const docLink = document.createElement('div');\n",
              "          docLink.innerHTML = docLinkHtml;\n",
              "          element.appendChild(docLink);\n",
              "        }\n",
              "      </script>\n",
              "    </div>\n",
              "  </div>\n",
              "  "
            ]
          },
          "metadata": {},
          "execution_count": 6
        }
      ]
    },
    {
      "cell_type": "code",
      "source": [
        "test_df.head()"
      ],
      "metadata": {
        "id": "gqkptutiUTGt",
        "colab": {
          "base_uri": "https://localhost:8080/",
          "height": 206
        },
        "outputId": "b225f88c-f5ae-413f-c7ef-289a7e742241"
      },
      "execution_count": 7,
      "outputs": [
        {
          "output_type": "execute_result",
          "data": {
            "text/plain": [
              "      id                                               text  HS  TR  AG\n",
              "0  31568  Bro is a bitch, fucking cunt https://t.co/dQ8J...   0   0   0\n",
              "1  30734  I'm rewatching Breaking Bad & I could see why ...   1   1   0\n",
              "2  31227  @charliekirk11 @asia742 364 down only about 12...   0   0   0\n",
              "3  31224  >Harasses women and calls them bitch and crabb...   0   0   0\n",
              "4  31139  Bitch you ain't gotta call my phone, matter fa...   0   0   0"
            ],
            "text/html": [
              "\n",
              "  <div id=\"df-22b3e3d3-a336-44ef-8b81-4ac02f772603\">\n",
              "    <div class=\"colab-df-container\">\n",
              "      <div>\n",
              "<style scoped>\n",
              "    .dataframe tbody tr th:only-of-type {\n",
              "        vertical-align: middle;\n",
              "    }\n",
              "\n",
              "    .dataframe tbody tr th {\n",
              "        vertical-align: top;\n",
              "    }\n",
              "\n",
              "    .dataframe thead th {\n",
              "        text-align: right;\n",
              "    }\n",
              "</style>\n",
              "<table border=\"1\" class=\"dataframe\">\n",
              "  <thead>\n",
              "    <tr style=\"text-align: right;\">\n",
              "      <th></th>\n",
              "      <th>id</th>\n",
              "      <th>text</th>\n",
              "      <th>HS</th>\n",
              "      <th>TR</th>\n",
              "      <th>AG</th>\n",
              "    </tr>\n",
              "  </thead>\n",
              "  <tbody>\n",
              "    <tr>\n",
              "      <th>0</th>\n",
              "      <td>31568</td>\n",
              "      <td>Bro is a bitch, fucking cunt https://t.co/dQ8J...</td>\n",
              "      <td>0</td>\n",
              "      <td>0</td>\n",
              "      <td>0</td>\n",
              "    </tr>\n",
              "    <tr>\n",
              "      <th>1</th>\n",
              "      <td>30734</td>\n",
              "      <td>I'm rewatching Breaking Bad &amp; I could see why ...</td>\n",
              "      <td>1</td>\n",
              "      <td>1</td>\n",
              "      <td>0</td>\n",
              "    </tr>\n",
              "    <tr>\n",
              "      <th>2</th>\n",
              "      <td>31227</td>\n",
              "      <td>@charliekirk11 @asia742 364 down only about 12...</td>\n",
              "      <td>0</td>\n",
              "      <td>0</td>\n",
              "      <td>0</td>\n",
              "    </tr>\n",
              "    <tr>\n",
              "      <th>3</th>\n",
              "      <td>31224</td>\n",
              "      <td>&gt;Harasses women and calls them bitch and crabb...</td>\n",
              "      <td>0</td>\n",
              "      <td>0</td>\n",
              "      <td>0</td>\n",
              "    </tr>\n",
              "    <tr>\n",
              "      <th>4</th>\n",
              "      <td>31139</td>\n",
              "      <td>Bitch you ain't gotta call my phone, matter fa...</td>\n",
              "      <td>0</td>\n",
              "      <td>0</td>\n",
              "      <td>0</td>\n",
              "    </tr>\n",
              "  </tbody>\n",
              "</table>\n",
              "</div>\n",
              "      <button class=\"colab-df-convert\" onclick=\"convertToInteractive('df-22b3e3d3-a336-44ef-8b81-4ac02f772603')\"\n",
              "              title=\"Convert this dataframe to an interactive table.\"\n",
              "              style=\"display:none;\">\n",
              "        \n",
              "  <svg xmlns=\"http://www.w3.org/2000/svg\" height=\"24px\"viewBox=\"0 0 24 24\"\n",
              "       width=\"24px\">\n",
              "    <path d=\"M0 0h24v24H0V0z\" fill=\"none\"/>\n",
              "    <path d=\"M18.56 5.44l.94 2.06.94-2.06 2.06-.94-2.06-.94-.94-2.06-.94 2.06-2.06.94zm-11 1L8.5 8.5l.94-2.06 2.06-.94-2.06-.94L8.5 2.5l-.94 2.06-2.06.94zm10 10l.94 2.06.94-2.06 2.06-.94-2.06-.94-.94-2.06-.94 2.06-2.06.94z\"/><path d=\"M17.41 7.96l-1.37-1.37c-.4-.4-.92-.59-1.43-.59-.52 0-1.04.2-1.43.59L10.3 9.45l-7.72 7.72c-.78.78-.78 2.05 0 2.83L4 21.41c.39.39.9.59 1.41.59.51 0 1.02-.2 1.41-.59l7.78-7.78 2.81-2.81c.8-.78.8-2.07 0-2.86zM5.41 20L4 18.59l7.72-7.72 1.47 1.35L5.41 20z\"/>\n",
              "  </svg>\n",
              "      </button>\n",
              "      \n",
              "  <style>\n",
              "    .colab-df-container {\n",
              "      display:flex;\n",
              "      flex-wrap:wrap;\n",
              "      gap: 12px;\n",
              "    }\n",
              "\n",
              "    .colab-df-convert {\n",
              "      background-color: #E8F0FE;\n",
              "      border: none;\n",
              "      border-radius: 50%;\n",
              "      cursor: pointer;\n",
              "      display: none;\n",
              "      fill: #1967D2;\n",
              "      height: 32px;\n",
              "      padding: 0 0 0 0;\n",
              "      width: 32px;\n",
              "    }\n",
              "\n",
              "    .colab-df-convert:hover {\n",
              "      background-color: #E2EBFA;\n",
              "      box-shadow: 0px 1px 2px rgba(60, 64, 67, 0.3), 0px 1px 3px 1px rgba(60, 64, 67, 0.15);\n",
              "      fill: #174EA6;\n",
              "    }\n",
              "\n",
              "    [theme=dark] .colab-df-convert {\n",
              "      background-color: #3B4455;\n",
              "      fill: #D2E3FC;\n",
              "    }\n",
              "\n",
              "    [theme=dark] .colab-df-convert:hover {\n",
              "      background-color: #434B5C;\n",
              "      box-shadow: 0px 1px 3px 1px rgba(0, 0, 0, 0.15);\n",
              "      filter: drop-shadow(0px 1px 2px rgba(0, 0, 0, 0.3));\n",
              "      fill: #FFFFFF;\n",
              "    }\n",
              "  </style>\n",
              "\n",
              "      <script>\n",
              "        const buttonEl =\n",
              "          document.querySelector('#df-22b3e3d3-a336-44ef-8b81-4ac02f772603 button.colab-df-convert');\n",
              "        buttonEl.style.display =\n",
              "          google.colab.kernel.accessAllowed ? 'block' : 'none';\n",
              "\n",
              "        async function convertToInteractive(key) {\n",
              "          const element = document.querySelector('#df-22b3e3d3-a336-44ef-8b81-4ac02f772603');\n",
              "          const dataTable =\n",
              "            await google.colab.kernel.invokeFunction('convertToInteractive',\n",
              "                                                     [key], {});\n",
              "          if (!dataTable) return;\n",
              "\n",
              "          const docLinkHtml = 'Like what you see? Visit the ' +\n",
              "            '<a target=\"_blank\" href=https://colab.research.google.com/notebooks/data_table.ipynb>data table notebook</a>'\n",
              "            + ' to learn more about interactive tables.';\n",
              "          element.innerHTML = '';\n",
              "          dataTable['output_type'] = 'display_data';\n",
              "          await google.colab.output.renderOutput(dataTable, element);\n",
              "          const docLink = document.createElement('div');\n",
              "          docLink.innerHTML = docLinkHtml;\n",
              "          element.appendChild(docLink);\n",
              "        }\n",
              "      </script>\n",
              "    </div>\n",
              "  </div>\n",
              "  "
            ]
          },
          "metadata": {},
          "execution_count": 7
        }
      ]
    },
    {
      "cell_type": "code",
      "source": [
        "train_df[train_df.duplicated()] #No duplicates found. "
      ],
      "metadata": {
        "id": "d_0rpu4xUTCV",
        "colab": {
          "base_uri": "https://localhost:8080/",
          "height": 49
        },
        "outputId": "15e6ab7a-f17d-4532-9089-c6f57210e3f2"
      },
      "execution_count": 8,
      "outputs": [
        {
          "output_type": "execute_result",
          "data": {
            "text/plain": [
              "Empty DataFrame\n",
              "Columns: [id, text, HS, TR, AG]\n",
              "Index: []"
            ],
            "text/html": [
              "\n",
              "  <div id=\"df-16e45af7-016d-48b3-be45-bd2d10776c06\">\n",
              "    <div class=\"colab-df-container\">\n",
              "      <div>\n",
              "<style scoped>\n",
              "    .dataframe tbody tr th:only-of-type {\n",
              "        vertical-align: middle;\n",
              "    }\n",
              "\n",
              "    .dataframe tbody tr th {\n",
              "        vertical-align: top;\n",
              "    }\n",
              "\n",
              "    .dataframe thead th {\n",
              "        text-align: right;\n",
              "    }\n",
              "</style>\n",
              "<table border=\"1\" class=\"dataframe\">\n",
              "  <thead>\n",
              "    <tr style=\"text-align: right;\">\n",
              "      <th></th>\n",
              "      <th>id</th>\n",
              "      <th>text</th>\n",
              "      <th>HS</th>\n",
              "      <th>TR</th>\n",
              "      <th>AG</th>\n",
              "    </tr>\n",
              "  </thead>\n",
              "  <tbody>\n",
              "  </tbody>\n",
              "</table>\n",
              "</div>\n",
              "      <button class=\"colab-df-convert\" onclick=\"convertToInteractive('df-16e45af7-016d-48b3-be45-bd2d10776c06')\"\n",
              "              title=\"Convert this dataframe to an interactive table.\"\n",
              "              style=\"display:none;\">\n",
              "        \n",
              "  <svg xmlns=\"http://www.w3.org/2000/svg\" height=\"24px\"viewBox=\"0 0 24 24\"\n",
              "       width=\"24px\">\n",
              "    <path d=\"M0 0h24v24H0V0z\" fill=\"none\"/>\n",
              "    <path d=\"M18.56 5.44l.94 2.06.94-2.06 2.06-.94-2.06-.94-.94-2.06-.94 2.06-2.06.94zm-11 1L8.5 8.5l.94-2.06 2.06-.94-2.06-.94L8.5 2.5l-.94 2.06-2.06.94zm10 10l.94 2.06.94-2.06 2.06-.94-2.06-.94-.94-2.06-.94 2.06-2.06.94z\"/><path d=\"M17.41 7.96l-1.37-1.37c-.4-.4-.92-.59-1.43-.59-.52 0-1.04.2-1.43.59L10.3 9.45l-7.72 7.72c-.78.78-.78 2.05 0 2.83L4 21.41c.39.39.9.59 1.41.59.51 0 1.02-.2 1.41-.59l7.78-7.78 2.81-2.81c.8-.78.8-2.07 0-2.86zM5.41 20L4 18.59l7.72-7.72 1.47 1.35L5.41 20z\"/>\n",
              "  </svg>\n",
              "      </button>\n",
              "      \n",
              "  <style>\n",
              "    .colab-df-container {\n",
              "      display:flex;\n",
              "      flex-wrap:wrap;\n",
              "      gap: 12px;\n",
              "    }\n",
              "\n",
              "    .colab-df-convert {\n",
              "      background-color: #E8F0FE;\n",
              "      border: none;\n",
              "      border-radius: 50%;\n",
              "      cursor: pointer;\n",
              "      display: none;\n",
              "      fill: #1967D2;\n",
              "      height: 32px;\n",
              "      padding: 0 0 0 0;\n",
              "      width: 32px;\n",
              "    }\n",
              "\n",
              "    .colab-df-convert:hover {\n",
              "      background-color: #E2EBFA;\n",
              "      box-shadow: 0px 1px 2px rgba(60, 64, 67, 0.3), 0px 1px 3px 1px rgba(60, 64, 67, 0.15);\n",
              "      fill: #174EA6;\n",
              "    }\n",
              "\n",
              "    [theme=dark] .colab-df-convert {\n",
              "      background-color: #3B4455;\n",
              "      fill: #D2E3FC;\n",
              "    }\n",
              "\n",
              "    [theme=dark] .colab-df-convert:hover {\n",
              "      background-color: #434B5C;\n",
              "      box-shadow: 0px 1px 3px 1px rgba(0, 0, 0, 0.15);\n",
              "      filter: drop-shadow(0px 1px 2px rgba(0, 0, 0, 0.3));\n",
              "      fill: #FFFFFF;\n",
              "    }\n",
              "  </style>\n",
              "\n",
              "      <script>\n",
              "        const buttonEl =\n",
              "          document.querySelector('#df-16e45af7-016d-48b3-be45-bd2d10776c06 button.colab-df-convert');\n",
              "        buttonEl.style.display =\n",
              "          google.colab.kernel.accessAllowed ? 'block' : 'none';\n",
              "\n",
              "        async function convertToInteractive(key) {\n",
              "          const element = document.querySelector('#df-16e45af7-016d-48b3-be45-bd2d10776c06');\n",
              "          const dataTable =\n",
              "            await google.colab.kernel.invokeFunction('convertToInteractive',\n",
              "                                                     [key], {});\n",
              "          if (!dataTable) return;\n",
              "\n",
              "          const docLinkHtml = 'Like what you see? Visit the ' +\n",
              "            '<a target=\"_blank\" href=https://colab.research.google.com/notebooks/data_table.ipynb>data table notebook</a>'\n",
              "            + ' to learn more about interactive tables.';\n",
              "          element.innerHTML = '';\n",
              "          dataTable['output_type'] = 'display_data';\n",
              "          await google.colab.output.renderOutput(dataTable, element);\n",
              "          const docLink = document.createElement('div');\n",
              "          docLink.innerHTML = docLinkHtml;\n",
              "          element.appendChild(docLink);\n",
              "        }\n",
              "      </script>\n",
              "    </div>\n",
              "  </div>\n",
              "  "
            ]
          },
          "metadata": {},
          "execution_count": 8
        }
      ]
    },
    {
      "cell_type": "code",
      "source": [
        "type(test_df)"
      ],
      "metadata": {
        "id": "4SUBy-Y0UZoC",
        "colab": {
          "base_uri": "https://localhost:8080/"
        },
        "outputId": "dbcbcbe6-85f5-4544-b235-f5594925d7c2"
      },
      "execution_count": 9,
      "outputs": [
        {
          "output_type": "execute_result",
          "data": {
            "text/plain": [
              "pandas.core.frame.DataFrame"
            ]
          },
          "metadata": {},
          "execution_count": 9
        }
      ]
    },
    {
      "cell_type": "code",
      "source": [
        "print(\"Number of tweets classified as Hate Speech in Dev dataset: \", len(val_df[val_df['HS'] == 1]))\n",
        "print(\"Number of tweets classified as Hate Speech in Test dataset: \", len(test_df[test_df['HS'] == 1]))\n",
        "print(\"Number of tweets classified as Hate Speech in Train dataset: \", len(train_df[train_df['HS'] == 1]))"
      ],
      "metadata": {
        "id": "5vby_OCzUbp1",
        "colab": {
          "base_uri": "https://localhost:8080/"
        },
        "outputId": "e975c774-f5ca-42db-83c0-79b78cf4c6e0"
      },
      "execution_count": 10,
      "outputs": [
        {
          "output_type": "stream",
          "name": "stdout",
          "text": [
            "Number of tweets classified as Hate Speech in Dev dataset:  427\n",
            "Number of tweets classified as Hate Speech in Test dataset:  1252\n",
            "Number of tweets classified as Hate Speech in Train dataset:  3783\n"
          ]
        }
      ]
    },
    {
      "cell_type": "code",
      "source": [
        "train_df['HS'].value_counts().plot.bar(color = 'coral', figsize = (6, 4))"
      ],
      "metadata": {
        "colab": {
          "base_uri": "https://localhost:8080/",
          "height": 280
        },
        "id": "_QEFcwFftg-8",
        "outputId": "cf037e90-5f70-40f3-e847-3f42dc413796"
      },
      "execution_count": 11,
      "outputs": [
        {
          "output_type": "execute_result",
          "data": {
            "text/plain": [
              "<matplotlib.axes._subplots.AxesSubplot at 0x7f5c549ee450>"
            ]
          },
          "metadata": {},
          "execution_count": 11
        },
        {
          "output_type": "display_data",
          "data": {
            "text/plain": [
              "<Figure size 432x288 with 1 Axes>"
            ],
            "image/png": "[encoded data removed]"
          },
          "metadata": {
            "needs_background": "light"
          }
        }
      ]
    },
    {
      "cell_type": "code",
      "source": [
        "train_df.groupby('HS').describe()"
      ],
      "metadata": {
        "id": "tkXjt4N_U6aM",
        "colab": {
          "base_uri": "https://localhost:8080/",
          "height": 268
        },
        "outputId": "3ddc92fe-39d3-404f-a432-eee16d1a8f63"
      },
      "execution_count": 12,
      "outputs": [
        {
          "output_type": "execute_result",
          "data": {
            "text/plain": [
              "        id                                                                   \\\n",
              "     count         mean          std    min     25%     50%     75%     max   \n",
              "HS                                                                            \n",
              "0   5217.0  4981.122676  2835.620564  204.0  2393.0  4543.0  7647.0  9200.0   \n",
              "1   3783.0  4313.503304  2171.401921  201.0  2517.0  4806.0  5761.5  9198.0   \n",
              "\n",
              "        TR            ...                AG                                \\\n",
              "     count      mean  ...  75%  max   count      mean       std  min  25%   \n",
              "HS                    ...                                                   \n",
              "0   5217.0  0.000000  ...  0.0  0.0  5217.0  0.000000  0.000000  0.0  0.0   \n",
              "1   3783.0  0.354481  ...  1.0  1.0  3783.0  0.412107  0.492279  0.0  0.0   \n",
              "\n",
              "                   \n",
              "    50%  75%  max  \n",
              "HS                 \n",
              "0   0.0  0.0  0.0  \n",
              "1   0.0  1.0  1.0  \n",
              "\n",
              "[2 rows x 24 columns]"
            ],
            "text/html": [
              "\n",
              "  <div id=\"df-aed407dc-7839-42f8-8944-4f57648f39ac\">\n",
              "    <div class=\"colab-df-container\">\n",
              "      <div>\n",
              "<style scoped>\n",
              "    .dataframe tbody tr th:only-of-type {\n",
              "        vertical-align: middle;\n",
              "    }\n",
              "\n",
              "    .dataframe tbody tr th {\n",
              "        vertical-align: top;\n",
              "    }\n",
              "\n",
              "    .dataframe thead tr th {\n",
              "        text-align: left;\n",
              "    }\n",
              "\n",
              "    .dataframe thead tr:last-of-type th {\n",
              "        text-align: right;\n",
              "    }\n",
              "</style>\n",
              "<table border=\"1\" class=\"dataframe\">\n",
              "  <thead>\n",
              "    <tr>\n",
              "      <th></th>\n",
              "      <th colspan=\"8\" halign=\"left\">id</th>\n",
              "      <th colspan=\"5\" halign=\"left\">TR</th>\n",
              "      <th colspan=\"8\" halign=\"left\">AG</th>\n",
              "    </tr>\n",
              "    <tr>\n",
              "      <th></th>\n",
              "      <th>count</th>\n",
              "      <th>mean</th>\n",
              "      <th>std</th>\n",
              "      <th>min</th>\n",
              "      <th>25%</th>\n",
              "      <th>50%</th>\n",
              "      <th>75%</th>\n",
              "      <th>max</th>\n",
              "      <th>count</th>\n",
              "      <th>mean</th>\n",
              "      <th>...</th>\n",
              "      <th>75%</th>\n",
              "      <th>max</th>\n",
              "      <th>count</th>\n",
              "      <th>mean</th>\n",
              "      <th>std</th>\n",
              "      <th>min</th>\n",
              "      <th>25%</th>\n",
              "      <th>50%</th>\n",
              "      <th>75%</th>\n",
              "      <th>max</th>\n",
              "    </tr>\n",
              "    <tr>\n",
              "      <th>HS</th>\n",
              "      <th></th>\n",
              "      <th></th>\n",
              "      <th></th>\n",
              "      <th></th>\n",
              "      <th></th>\n",
              "      <th></th>\n",
              "      <th></th>\n",
              "      <th></th>\n",
              "      <th></th>\n",
              "      <th></th>\n",
              "      <th></th>\n",
              "      <th></th>\n",
              "      <th></th>\n",
              "      <th></th>\n",
              "      <th></th>\n",
              "      <th></th>\n",
              "      <th></th>\n",
              "      <th></th>\n",
              "      <th></th>\n",
              "      <th></th>\n",
              "      <th></th>\n",
              "    </tr>\n",
              "  </thead>\n",
              "  <tbody>\n",
              "    <tr>\n",
              "      <th>0</th>\n",
              "      <td>5217.0</td>\n",
              "      <td>4981.122676</td>\n",
              "      <td>2835.620564</td>\n",
              "      <td>204.0</td>\n",
              "      <td>2393.0</td>\n",
              "      <td>4543.0</td>\n",
              "      <td>7647.0</td>\n",
              "      <td>9200.0</td>\n",
              "      <td>5217.0</td>\n",
              "      <td>0.000000</td>\n",
              "      <td>...</td>\n",
              "      <td>0.0</td>\n",
              "      <td>0.0</td>\n",
              "      <td>5217.0</td>\n",
              "      <td>0.000000</td>\n",
              "      <td>0.000000</td>\n",
              "      <td>0.0</td>\n",
              "      <td>0.0</td>\n",
              "      <td>0.0</td>\n",
              "      <td>0.0</td>\n",
              "      <td>0.0</td>\n",
              "    </tr>\n",
              "    <tr>\n",
              "      <th>1</th>\n",
              "      <td>3783.0</td>\n",
              "      <td>4313.503304</td>\n",
              "      <td>2171.401921</td>\n",
              "      <td>201.0</td>\n",
              "      <td>2517.0</td>\n",
              "      <td>4806.0</td>\n",
              "      <td>5761.5</td>\n",
              "      <td>9198.0</td>\n",
              "      <td>3783.0</td>\n",
              "      <td>0.354481</td>\n",
              "      <td>...</td>\n",
              "      <td>1.0</td>\n",
              "      <td>1.0</td>\n",
              "      <td>3783.0</td>\n",
              "      <td>0.412107</td>\n",
              "      <td>0.492279</td>\n",
              "      <td>0.0</td>\n",
              "      <td>0.0</td>\n",
              "      <td>0.0</td>\n",
              "      <td>1.0</td>\n",
              "      <td>1.0</td>\n",
              "    </tr>\n",
              "  </tbody>\n",
              "</table>\n",
              "<p>2 rows × 24 columns</p>\n",
              "</div>\n",
              "      <button class=\"colab-df-convert\" onclick=\"convertToInteractive('df-aed407dc-7839-42f8-8944-4f57648f39ac')\"\n",
              "              title=\"Convert this dataframe to an interactive table.\"\n",
              "              style=\"display:none;\">\n",
              "        \n",
              "  <svg xmlns=\"http://www.w3.org/2000/svg\" height=\"24px\"viewBox=\"0 0 24 24\"\n",
              "       width=\"24px\">\n",
              "    <path d=\"M0 0h24v24H0V0z\" fill=\"none\"/>\n",
              "    <path d=\"M18.56 5.44l.94 2.06.94-2.06 2.06-.94-2.06-.94-.94-2.06-.94 2.06-2.06.94zm-11 1L8.5 8.5l.94-2.06 2.06-.94-2.06-.94L8.5 2.5l-.94 2.06-2.06.94zm10 10l.94 2.06.94-2.06 2.06-.94-2.06-.94-.94-2.06-.94 2.06-2.06.94z\"/><path d=\"M17.41 7.96l-1.37-1.37c-.4-.4-.92-.59-1.43-.59-.52 0-1.04.2-1.43.59L10.3 9.45l-7.72 7.72c-.78.78-.78 2.05 0 2.83L4 21.41c.39.39.9.59 1.41.59.51 0 1.02-.2 1.41-.59l7.78-7.78 2.81-2.81c.8-.78.8-2.07 0-2.86zM5.41 20L4 18.59l7.72-7.72 1.47 1.35L5.41 20z\"/>\n",
              "  </svg>\n",
              "      </button>\n",
              "      \n",
              "  <style>\n",
              "    .colab-df-container {\n",
              "      display:flex;\n",
              "      flex-wrap:wrap;\n",
              "      gap: 12px;\n",
              "    }\n",
              "\n",
              "    .colab-df-convert {\n",
              "      background-color: #E8F0FE;\n",
              "      border: none;\n",
              "      border-radius: 50%;\n",
              "      cursor: pointer;\n",
              "      display: none;\n",
              "      fill: #1967D2;\n",
              "      height: 32px;\n",
              "      padding: 0 0 0 0;\n",
              "      width: 32px;\n",
              "    }\n",
              "\n",
              "    .colab-df-convert:hover {\n",
              "      background-color: #E2EBFA;\n",
              "      box-shadow: 0px 1px 2px rgba(60, 64, 67, 0.3), 0px 1px 3px 1px rgba(60, 64, 67, 0.15);\n",
              "      fill: #174EA6;\n",
              "    }\n",
              "\n",
              "    [theme=dark] .colab-df-convert {\n",
              "      background-color: #3B4455;\n",
              "      fill: #D2E3FC;\n",
              "    }\n",
              "\n",
              "    [theme=dark] .colab-df-convert:hover {\n",
              "      background-color: #434B5C;\n",
              "      box-shadow: 0px 1px 3px 1px rgba(0, 0, 0, 0.15);\n",
              "      filter: drop-shadow(0px 1px 2px rgba(0, 0, 0, 0.3));\n",
              "      fill: #FFFFFF;\n",
              "    }\n",
              "  </style>\n",
              "\n",
              "      <script>\n",
              "        const buttonEl =\n",
              "          document.querySelector('#df-aed407dc-7839-42f8-8944-4f57648f39ac button.colab-df-convert');\n",
              "        buttonEl.style.display =\n",
              "          google.colab.kernel.accessAllowed ? 'block' : 'none';\n",
              "\n",
              "        async function convertToInteractive(key) {\n",
              "          const element = document.querySelector('#df-aed407dc-7839-42f8-8944-4f57648f39ac');\n",
              "          const dataTable =\n",
              "            await google.colab.kernel.invokeFunction('convertToInteractive',\n",
              "                                                     [key], {});\n",
              "          if (!dataTable) return;\n",
              "\n",
              "          const docLinkHtml = 'Like what you see? Visit the ' +\n",
              "            '<a target=\"_blank\" href=https://colab.research.google.com/notebooks/data_table.ipynb>data table notebook</a>'\n",
              "            + ' to learn more about interactive tables.';\n",
              "          element.innerHTML = '';\n",
              "          dataTable['output_type'] = 'display_data';\n",
              "          await google.colab.output.renderOutput(dataTable, element);\n",
              "          const docLink = document.createElement('div');\n",
              "          docLink.innerHTML = docLinkHtml;\n",
              "          element.appendChild(docLink);\n",
              "        }\n",
              "      </script>\n",
              "    </div>\n",
              "  </div>\n",
              "  "
            ]
          },
          "metadata": {},
          "execution_count": 12
        }
      ]
    },
    {
      "cell_type": "code",
      "source": [
        "from sklearn.feature_extraction.text import CountVectorizer\n",
        "\n",
        "\n",
        "cv = CountVectorizer(stop_words = 'english')\n",
        "words = cv.fit_transform(train_df.text)\n",
        "\n",
        "sum_words = words.sum(axis=0)\n",
        "\n",
        "words_freq = [(word, sum_words[0, i]) for word, i in cv.vocabulary_.items()]\n",
        "words_freq = sorted(words_freq, key = lambda x: x[1], reverse = True)\n",
        "\n",
        "frequency = pd.DataFrame(words_freq, columns=['word', 'freq'])\n",
        "frequency.drop([0, 20], axis=0, inplace=True) # First \"Word\" is 'https', 21st word is 'amp', removing them\n",
        "\n",
        "frequency.head(30).plot(x='word', y='freq', kind='bar', figsize=(15, 7), color = 'cyan')\n",
        "plt.title(\"Most Frequently Occuring Words - Top 30\")"
      ],
      "metadata": {
        "id": "fW3QAAWaU6lD",
        "colab": {
          "base_uri": "https://localhost:8080/",
          "height": 529
        },
        "outputId": "e5053a9a-7f53-4990-c8df-7b4d76ad5c54"
      },
      "execution_count": 13,
      "outputs": [
        {
          "output_type": "execute_result",
          "data": {
            "text/plain": [
              "Text(0.5, 1.0, 'Most Frequently Occuring Words - Top 30')"
            ]
          },
          "metadata": {},
          "execution_count": 13
        },
        {
          "output_type": "display_data",
          "data": {
            "text/plain": [
              "<Figure size 1080x504 with 1 Axes>"
            ],
            "image/png": "[encoded data removed]"
          },
          "metadata": {
            "needs_background": "light"
          }
        }
      ]
    },
    {
      "cell_type": "code",
      "source": [
        "# adding a column to represent the length of the tweet\n",
        "\n",
        "train_df['len'] =train_df['text'].str.len()\n",
        "train_df.head(10)"
      ],
      "metadata": {
        "id": "y3HJM7xZU6rh",
        "colab": {
          "base_uri": "https://localhost:8080/",
          "height": 362
        },
        "outputId": "067b9bae-f2d8-45b1-c729-7ba529a89793"
      },
      "execution_count": 14,
      "outputs": [
        {
          "output_type": "execute_result",
          "data": {
            "text/plain": [
              "    id                                               text  HS  TR  AG  len\n",
              "0  201  Hurray, saving us $$$ in so many ways @potus @...   1   0   0  121\n",
              "1  202  Why would young fighting age men be the vast m...   1   0   0  300\n",
              "2  203  @KamalaHarris Illegals Dump their Kids at the ...   1   0   0  255\n",
              "3  204  NY Times: 'Nearly All White' States Pose 'an A...   0   0   0  126\n",
              "4  205  Orban in Brussels: European leaders are ignori...   0   0   0  122\n",
              "5  206  @KurtSchlichter LEGAL is. Not illegal. #BuildT...   1   0   0   53\n",
              "6  207  @RitaPanahi @826Maureen @RealCandaceO Antifa a...   0   0   0  212\n",
              "7  208  Ex-Teacher Pleads Not guilty To Rape Charges h...   0   0   0   68\n",
              "8  209  still places on our Bengali (Sylheti) class! i...   0   0   0  159\n",
              "9  210  DFID Africa Regional Profile: July 2018 https:...   0   0   0   63"
            ],
            "text/html": [
              "\n",
              "  <div id=\"df-0227485f-237f-4afd-9d8f-f574cef56565\">\n",
              "    <div class=\"colab-df-container\">\n",
              "      <div>\n",
              "<style scoped>\n",
              "    .dataframe tbody tr th:only-of-type {\n",
              "        vertical-align: middle;\n",
              "    }\n",
              "\n",
              "    .dataframe tbody tr th {\n",
              "        vertical-align: top;\n",
              "    }\n",
              "\n",
              "    .dataframe thead th {\n",
              "        text-align: right;\n",
              "    }\n",
              "</style>\n",
              "<table border=\"1\" class=\"dataframe\">\n",
              "  <thead>\n",
              "    <tr style=\"text-align: right;\">\n",
              "      <th></th>\n",
              "      <th>id</th>\n",
              "      <th>text</th>\n",
              "      <th>HS</th>\n",
              "      <th>TR</th>\n",
              "      <th>AG</th>\n",
              "      <th>len</th>\n",
              "    </tr>\n",
              "  </thead>\n",
              "  <tbody>\n",
              "    <tr>\n",
              "      <th>0</th>\n",
              "      <td>201</td>\n",
              "      <td>Hurray, saving us $$$ in so many ways @potus @...</td>\n",
              "      <td>1</td>\n",
              "      <td>0</td>\n",
              "      <td>0</td>\n",
              "      <td>121</td>\n",
              "    </tr>\n",
              "    <tr>\n",
              "      <th>1</th>\n",
              "      <td>202</td>\n",
              "      <td>Why would young fighting age men be the vast m...</td>\n",
              "      <td>1</td>\n",
              "      <td>0</td>\n",
              "      <td>0</td>\n",
              "      <td>300</td>\n",
              "    </tr>\n",
              "    <tr>\n",
              "      <th>2</th>\n",
              "      <td>203</td>\n",
              "      <td>@KamalaHarris Illegals Dump their Kids at the ...</td>\n",
              "      <td>1</td>\n",
              "      <td>0</td>\n",
              "      <td>0</td>\n",
              "      <td>255</td>\n",
              "    </tr>\n",
              "    <tr>\n",
              "      <th>3</th>\n",
              "      <td>204</td>\n",
              "      <td>NY Times: 'Nearly All White' States Pose 'an A...</td>\n",
              "      <td>0</td>\n",
              "      <td>0</td>\n",
              "      <td>0</td>\n",
              "      <td>126</td>\n",
              "    </tr>\n",
              "    <tr>\n",
              "      <th>4</th>\n",
              "      <td>205</td>\n",
              "      <td>Orban in Brussels: European leaders are ignori...</td>\n",
              "      <td>0</td>\n",
              "      <td>0</td>\n",
              "      <td>0</td>\n",
              "      <td>122</td>\n",
              "    </tr>\n",
              "    <tr>\n",
              "      <th>5</th>\n",
              "      <td>206</td>\n",
              "      <td>@KurtSchlichter LEGAL is. Not illegal. #BuildT...</td>\n",
              "      <td>1</td>\n",
              "      <td>0</td>\n",
              "      <td>0</td>\n",
              "      <td>53</td>\n",
              "    </tr>\n",
              "    <tr>\n",
              "      <th>6</th>\n",
              "      <td>207</td>\n",
              "      <td>@RitaPanahi @826Maureen @RealCandaceO Antifa a...</td>\n",
              "      <td>0</td>\n",
              "      <td>0</td>\n",
              "      <td>0</td>\n",
              "      <td>212</td>\n",
              "    </tr>\n",
              "    <tr>\n",
              "      <th>7</th>\n",
              "      <td>208</td>\n",
              "      <td>Ex-Teacher Pleads Not guilty To Rape Charges h...</td>\n",
              "      <td>0</td>\n",
              "      <td>0</td>\n",
              "      <td>0</td>\n",
              "      <td>68</td>\n",
              "    </tr>\n",
              "    <tr>\n",
              "      <th>8</th>\n",
              "      <td>209</td>\n",
              "      <td>still places on our Bengali (Sylheti) class! i...</td>\n",
              "      <td>0</td>\n",
              "      <td>0</td>\n",
              "      <td>0</td>\n",
              "      <td>159</td>\n",
              "    </tr>\n",
              "    <tr>\n",
              "      <th>9</th>\n",
              "      <td>210</td>\n",
              "      <td>DFID Africa Regional Profile: July 2018 https:...</td>\n",
              "      <td>0</td>\n",
              "      <td>0</td>\n",
              "      <td>0</td>\n",
              "      <td>63</td>\n",
              "    </tr>\n",
              "  </tbody>\n",
              "</table>\n",
              "</div>\n",
              "      <button class=\"colab-df-convert\" onclick=\"convertToInteractive('df-0227485f-237f-4afd-9d8f-f574cef56565')\"\n",
              "              title=\"Convert this dataframe to an interactive table.\"\n",
              "              style=\"display:none;\">\n",
              "        \n",
              "  <svg xmlns=\"http://www.w3.org/2000/svg\" height=\"24px\"viewBox=\"0 0 24 24\"\n",
              "       width=\"24px\">\n",
              "    <path d=\"M0 0h24v24H0V0z\" fill=\"none\"/>\n",
              "    <path d=\"M18.56 5.44l.94 2.06.94-2.06 2.06-.94-2.06-.94-.94-2.06-.94 2.06-2.06.94zm-11 1L8.5 8.5l.94-2.06 2.06-.94-2.06-.94L8.5 2.5l-.94 2.06-2.06.94zm10 10l.94 2.06.94-2.06 2.06-.94-2.06-.94-.94-2.06-.94 2.06-2.06.94z\"/><path d=\"M17.41 7.96l-1.37-1.37c-.4-.4-.92-.59-1.43-.59-.52 0-1.04.2-1.43.59L10.3 9.45l-7.72 7.72c-.78.78-.78 2.05 0 2.83L4 21.41c.39.39.9.59 1.41.59.51 0 1.02-.2 1.41-.59l7.78-7.78 2.81-2.81c.8-.78.8-2.07 0-2.86zM5.41 20L4 18.59l7.72-7.72 1.47 1.35L5.41 20z\"/>\n",
              "  </svg>\n",
              "      </button>\n",
              "      \n",
              "  <style>\n",
              "    .colab-df-container {\n",
              "      display:flex;\n",
              "      flex-wrap:wrap;\n",
              "      gap: 12px;\n",
              "    }\n",
              "\n",
              "    .colab-df-convert {\n",
              "      background-color: #E8F0FE;\n",
              "      border: none;\n",
              "      border-radius: 50%;\n",
              "      cursor: pointer;\n",
              "      display: none;\n",
              "      fill: #1967D2;\n",
              "      height: 32px;\n",
              "      padding: 0 0 0 0;\n",
              "      width: 32px;\n",
              "    }\n",
              "\n",
              "    .colab-df-convert:hover {\n",
              "      background-color: #E2EBFA;\n",
              "      box-shadow: 0px 1px 2px rgba(60, 64, 67, 0.3), 0px 1px 3px 1px rgba(60, 64, 67, 0.15);\n",
              "      fill: #174EA6;\n",
              "    }\n",
              "\n",
              "    [theme=dark] .colab-df-convert {\n",
              "      background-color: #3B4455;\n",
              "      fill: #D2E3FC;\n",
              "    }\n",
              "\n",
              "    [theme=dark] .colab-df-convert:hover {\n",
              "      background-color: #434B5C;\n",
              "      box-shadow: 0px 1px 3px 1px rgba(0, 0, 0, 0.15);\n",
              "      filter: drop-shadow(0px 1px 2px rgba(0, 0, 0, 0.3));\n",
              "      fill: #FFFFFF;\n",
              "    }\n",
              "  </style>\n",
              "\n",
              "      <script>\n",
              "        const buttonEl =\n",
              "          document.querySelector('#df-0227485f-237f-4afd-9d8f-f574cef56565 button.colab-df-convert');\n",
              "        buttonEl.style.display =\n",
              "          google.colab.kernel.accessAllowed ? 'block' : 'none';\n",
              "\n",
              "        async function convertToInteractive(key) {\n",
              "          const element = document.querySelector('#df-0227485f-237f-4afd-9d8f-f574cef56565');\n",
              "          const dataTable =\n",
              "            await google.colab.kernel.invokeFunction('convertToInteractive',\n",
              "                                                     [key], {});\n",
              "          if (!dataTable) return;\n",
              "\n",
              "          const docLinkHtml = 'Like what you see? Visit the ' +\n",
              "            '<a target=\"_blank\" href=https://colab.research.google.com/notebooks/data_table.ipynb>data table notebook</a>'\n",
              "            + ' to learn more about interactive tables.';\n",
              "          element.innerHTML = '';\n",
              "          dataTable['output_type'] = 'display_data';\n",
              "          await google.colab.output.renderOutput(dataTable, element);\n",
              "          const docLink = document.createElement('div');\n",
              "          docLink.innerHTML = docLinkHtml;\n",
              "          element.appendChild(docLink);\n",
              "        }\n",
              "      </script>\n",
              "    </div>\n",
              "  </div>\n",
              "  "
            ]
          },
          "metadata": {},
          "execution_count": 14
        }
      ]
    },
    {
      "cell_type": "code",
      "source": [
        "print(train_df[['len']].describe())"
      ],
      "metadata": {
        "id": "FIKwJS3pU6y3",
        "colab": {
          "base_uri": "https://localhost:8080/"
        },
        "outputId": "81200a98-ce64-4b68-ef44-47e34607770b"
      },
      "execution_count": 15,
      "outputs": [
        {
          "output_type": "stream",
          "name": "stdout",
          "text": [
            "               len\n",
            "count  9000.000000\n",
            "mean    140.013111\n",
            "std      70.379132\n",
            "min      10.000000\n",
            "25%      87.000000\n",
            "50%     129.000000\n",
            "75%     176.000000\n",
            "max     327.000000\n"
          ]
        }
      ]
    },
    {
      "cell_type": "code",
      "source": [
        "length_train = train_df['text'].str.len().plot.hist(color = 'magenta', figsize = (6, 4))\n",
        "length_test = test_df['text'].str.len().plot.hist(color = 'orange', figsize = (6, 4))"
      ],
      "metadata": {
        "id": "c7z4UAy4U63Q",
        "colab": {
          "base_uri": "https://localhost:8080/",
          "height": 265
        },
        "outputId": "2ace6b95-edec-45a8-900f-82e9e4b6762e"
      },
      "execution_count": 16,
      "outputs": [
        {
          "output_type": "display_data",
          "data": {
            "text/plain": [
              "<Figure size 432x288 with 1 Axes>"
            ],
            "image/png": "[encoded data removed]"
          },
          "metadata": {
            "needs_background": "light"
          }
        }
      ]
    },
    {
      "cell_type": "code",
      "source": [
        "def hashtag_extract(x):\n",
        "    hashtags = []\n",
        "    \n",
        "    for i in x:\n",
        "        ht = re.findall(r\"#(\\w+)\", i)\n",
        "        hashtags.append(ht)\n",
        "\n",
        "    return hashtags"
      ],
      "metadata": {
        "id": "xR6seP1XU67D"
      },
      "execution_count": 17,
      "outputs": []
    },
    {
      "cell_type": "code",
      "source": [
        "# extracting hashtags from non racist/misogynistic tweets\n",
        "HT_regular = hashtag_extract(train_df['text'][train_df['HS'] == 0])\n",
        "\n",
        "# extracting hashtags from racist/misogynistic tweets\n",
        "HT_negative = hashtag_extract(train_df['text'][train_df['HS'] == 1])\n",
        "\n",
        "# unnesting list\n",
        "HT_regular = sum(HT_regular,[])\n",
        "HT_negative = sum(HT_negative,[])"
      ],
      "metadata": {
        "id": "KdKJqlDNU6-W"
      },
      "execution_count": 18,
      "outputs": []
    },
    {
      "cell_type": "code",
      "source": [
        "import seaborn as sns\n",
        "a = nltk.FreqDist(HT_negative)\n",
        "d = pd.DataFrame({'Hashtag': list(a.keys()),\n",
        "                  'Count': list(a.values())})\n",
        "\n",
        "# selecting top 12 most frequent hashtags     \n",
        "d = d.nlargest(columns=\"Count\", n = 12) \n",
        "plt.figure(figsize=(16,5))\n",
        "ax = sns.barplot(data=d, x= \"Hashtag\", y = \"Count\")\n",
        "ax.set(ylabel = 'Count')\n",
        "plt.show()"
      ],
      "metadata": {
        "id": "S3EXQ1Y4ZOaC",
        "colab": {
          "base_uri": "https://localhost:8080/",
          "height": 300
        },
        "outputId": "ba5be1fd-7e8b-4c39-90ad-8c710c27baae"
      },
      "execution_count": 19,
      "outputs": [
        {
          "output_type": "display_data",
          "data": {
            "text/plain": [
              "<Figure size 1152x360 with 1 Axes>"
            ],
            "image/png": "[encoded data removed]"
          },
          "metadata": {
            "needs_background": "light"
          }
        }
      ]
    },
    {
      "cell_type": "code",
      "source": [
        "print(\"Number of tweets with links in the train dataset: \", len(train_df[train_df.text.str.contains('https://[.\\S]+', regex=True)])) # Number of tweets that contain a link\n",
        "print(\"Number of tweets with links in the test dataset: \", len(test_df[test_df.text.str.contains('https://[.\\S]+', regex=True)]))\n",
        "print(\"Number of tweets with links in the dev dataset: \", len(val_df[val_df.text.str.contains('https://[.\\S]+', regex=True)]))"
      ],
      "metadata": {
        "colab": {
          "base_uri": "https://localhost:8080/"
        },
        "id": "9kBGVPTSaVUb",
        "outputId": "af464cd3-aacb-4cdd-f9c8-f865d4943ed2"
      },
      "execution_count": 20,
      "outputs": [
        {
          "output_type": "stream",
          "name": "stdout",
          "text": [
            "Number of tweets with links in the train dataset:  4224\n",
            "Number of tweets with links in the test dataset:  267\n",
            "Number of tweets with links in the dev dataset:  364\n"
          ]
        }
      ]
    },
    {
      "cell_type": "markdown",
      "source": [
        "# **SVM Implementation**"
      ],
      "metadata": {
        "id": "XizaRuSSbp6_"
      }
    },
    {
      "cell_type": "code",
      "source": [
        "def preprocess_svm(df):\n",
        "  df1 = df.copy()\n",
        "  df1['text'] = df1.text.str.lower()\n",
        "  df1['text'] = df1.text.str.replace('&amp|&', ' and ', regex=True)\n",
        "  df1['text'] = df1.text.str.replace('@[\\w\\d]+|http[s]*://[.\\S]+', '', regex=True)\n",
        "  df1['text'] = df1.text.str.replace('[#,.:;\\\"]', ' ', regex=True)\n",
        "  df1['text'] = df1.text.str.replace('[^#a-zA-Z\\s\\d]', '', regex=True)\n",
        "  # df1['text'] = df1.text.str.replace('[#]', ' ', regex=True)\n",
        "  df1['text'] = df1.text.str.replace('[\\d]+', ' 0 ', regex=True)\n",
        "\n",
        "  pos_tagged = df1.text.apply(lambda x: pos_tag(word_tokenize(x))).to_list()\n",
        "\n",
        "  tag_map = defaultdict(lambda : wn.NOUN)\n",
        "  tag_map['J'] = wn.ADJ\n",
        "  tag_map['V'] = wn.VERB\n",
        "  tag_map['R'] = wn.ADV\n",
        "\n",
        "  preprocessed_tweets = []\n",
        "  for tweet in pos_tagged:\n",
        "    lemmatized = WordNetLemmatizer()\n",
        "    final_words = [lemmatized.lemmatize(word, tag_map[tag[0]]) for word, tag in tweet if (not word.isdigit()) and (word not in stopwords.words('english'))]\n",
        "    preprocessed_tweets.append(\" \".join(final_words))\n",
        "  df1['preprocessed'] = preprocessed_tweets\n",
        "\n",
        "  # model = CountVectorizer(min_df=2) # Removing words that appear less than 2 times\n",
        "  # matrix = model.fit_transform(df1.preprocessed).toarray()\n",
        "  # df_output = pd.DataFrame(data = matrix, columns = model.get_feature_names_out())\n",
        "  return df1\n",
        "# preprocess(train_df)"
      ],
      "metadata": {
        "id": "1wsi50zQbuAJ"
      },
      "execution_count": 21,
      "outputs": []
    },
    {
      "cell_type": "code",
      "source": [
        "import nltk\n",
        "nltk.download('punkt')\n",
        "preprocessed_train = preprocess_svm(train_df)\n",
        "preprocessed_val = preprocess_svm(val_df)\n",
        "preprocessed_test = preprocess_svm(test_df)"
      ],
      "metadata": {
        "colab": {
          "base_uri": "https://localhost:8080/"
        },
        "id": "6spMyMyocOY8",
        "outputId": "519584e3-987b-4f50-f50f-8a701ee3d444"
      },
      "execution_count": 22,
      "outputs": [
        {
          "output_type": "stream",
          "name": "stdout",
          "text": [
            "[nltk_data] Downloading package punkt to /root/nltk_data...\n",
            "[nltk_data]   Package punkt is already up-to-date!\n"
          ]
        }
      ]
    },
    {
      "cell_type": "code",
      "source": [
        "cv = CountVectorizer(min_df=2) # Removing words that appear less than 2 times\n",
        "X_train = cv.fit_transform(preprocessed_train.preprocessed).toarray()\n",
        "y_train = train_df.HS\n",
        "\n",
        "X_test = cv.transform(preprocessed_test.preprocessed).toarray()\n",
        "y_test = test_df.HS"
      ],
      "metadata": {
        "id": "lR125eRSiy6u"
      },
      "execution_count": 23,
      "outputs": []
    },
    {
      "cell_type": "code",
      "source": [
        "cv = CountVectorizer(min_df=2) # Removing words that appear less than 2 times\n",
        "X_train = cv.fit_transform(preprocessed_train.preprocessed).toarray()\n",
        "y_train = preprocessed_train.HS\n",
        "\n",
        "X_test = cv.transform(preprocessed_test.preprocessed).toarray()\n",
        "y_test = preprocessed_test.HS"
      ],
      "metadata": {
        "id": "ree9gqNlcQNC"
      },
      "execution_count": 24,
      "outputs": []
    },
    {
      "cell_type": "code",
      "source": [
        "sm = SMOTE(random_state=42)\n",
        "X_train, y_train = sm.fit_resample(X_train, y_train)"
      ],
      "metadata": {
        "id": "lPBE-JhhcR28"
      },
      "execution_count": 25,
      "outputs": []
    },
    {
      "cell_type": "code",
      "source": [
        "clf = SVC(C=1.0, kernel='rbf', gamma='auto')\n",
        "clf.fit(X_train, y_train)\n",
        "y_pred = clf.predict(X_test)\n",
        "svm_mat = confusion_matrix(y_test, y_pred)\n",
        "print(accuracy_score(y_test, y_pred))\n",
        "print('\\n', classification_report(y_test, y_pred))"
      ],
      "metadata": {
        "colab": {
          "base_uri": "https://localhost:8080/"
        },
        "id": "Fxfh4NjxcScl",
        "outputId": "30f1d322-bca6-426a-9554-d045fb57b88b"
      },
      "execution_count": 26,
      "outputs": [
        {
          "output_type": "stream",
          "name": "stdout",
          "text": [
            "0.6418714237630427\n",
            "\n",
            "               precision    recall  f1-score   support\n",
            "\n",
            "           0       0.66      0.78      0.72      1719\n",
            "           1       0.60      0.45      0.52      1252\n",
            "\n",
            "    accuracy                           0.64      2971\n",
            "   macro avg       0.63      0.62      0.62      2971\n",
            "weighted avg       0.64      0.64      0.63      2971\n",
            "\n"
          ]
        }
      ]
    },
    {
      "cell_type": "code",
      "source": [
        "svm_mat\n",
        "fig, ax = plt.subplots(figsize = (7.5, 7.5))\n",
        "ax.matshow(svm_mat, cmap=plt.cm.Blues, alpha=0.3)\n",
        "for i in range(svm_mat.shape[0]):\n",
        "    for j in range(svm_mat.shape[1]):\n",
        "        ax.text(x=j, y=i, s=svm_mat[i, j], va='center', ha='center', size='xx-large')\n",
        "\n",
        "plt.xlabel('Test Values', fontsize=17)\n",
        "plt.ylabel('Predicted Values', fontsize=17)\n",
        "plt.title('SVM Confusion Matrix', fontsize=20)\n",
        "#plt.savefig('SVM_Matrix')\n",
        "plt.show()"
      ],
      "metadata": {
        "colab": {
          "base_uri": "https://localhost:8080/",
          "height": 502
        },
        "id": "24puzo5XgqXQ",
        "outputId": "932fe99d-a3b5-4d45-b92b-dd447e11162b"
      },
      "execution_count": 27,
      "outputs": [
        {
          "output_type": "display_data",
          "data": {
            "text/plain": [
              "<Figure size 540x540 with 1 Axes>"
            ],
            "image/png": "[encoded data removed]"
          },
          "metadata": {
            "needs_background": "light"
          }
        }
      ]
    },
    {
      "cell_type": "markdown",
      "source": [
        "# **LSTM Implementation**"
      ],
      "metadata": {
        "id": "uPRVS1-zrWsm"
      }
    },
    {
      "cell_type": "code",
      "source": [
        "!pip install fasttext"
      ],
      "metadata": {
        "colab": {
          "base_uri": "https://localhost:8080/"
        },
        "id": "OasMb3M2slFB",
        "outputId": "8bc6ae81-8c66-40c6-a0f4-6820a44f5198"
      },
      "execution_count": 28,
      "outputs": [
        {
          "output_type": "stream",
          "name": "stdout",
          "text": [
            "Requirement already satisfied: fasttext in /usr/local/lib/python3.7/dist-packages (0.9.2)\n",
            "Requirement already satisfied: numpy in /usr/local/lib/python3.7/dist-packages (from fasttext) (1.21.6)\n",
            "Requirement already satisfied: pybind11>=2.2 in /usr/local/lib/python3.7/dist-packages (from fasttext) (2.9.2)\n",
            "Requirement already satisfied: setuptools>=0.7.0 in /usr/local/lib/python3.7/dist-packages (from fasttext) (57.4.0)\n"
          ]
        }
      ]
    },
    {
      "cell_type": "code",
      "source": [
        "import fasttext.util\n",
        "fasttext.util.download_model('en', if_exists='ignore')  # English\n",
        "ft = fasttext.load_model('cc.en.300.bin')"
      ],
      "metadata": {
        "colab": {
          "base_uri": "https://localhost:8080/"
        },
        "id": "OrBwpiq-smck",
        "outputId": "0ee5ae43-f71b-4592-a0ec-ee5083081083"
      },
      "execution_count": 29,
      "outputs": [
        {
          "output_type": "stream",
          "name": "stderr",
          "text": [
            "Warning : `load_model` does not return WordVectorModel or SupervisedModel any more, but a `FastText` object which is very similar.\n"
          ]
        }
      ]
    },
    {
      "cell_type": "code",
      "source": [
        "!pip install emot\n",
        "import regex as re\n",
        "import pickle\n",
        "import string\n",
        "import spacy\n",
        "from nltk.tokenize import word_tokenize\n",
        "from emot.emo_unicode import UNICODE_EMOJI # For emojis\n",
        "from emot.emo_unicode import EMOTICONS_EMO # For emoticons"
      ],
      "metadata": {
        "colab": {
          "base_uri": "https://localhost:8080/"
        },
        "id": "yz0Ezs4csn9I",
        "outputId": "c356b5c2-8238-4177-f22a-101ca9889d9e"
      },
      "execution_count": 30,
      "outputs": [
        {
          "output_type": "stream",
          "name": "stdout",
          "text": [
            "Requirement already satisfied: emot in /usr/local/lib/python3.7/dist-packages (3.1)\n"
          ]
        }
      ]
    },
    {
      "cell_type": "code",
      "source": [
        "with open('slang.txt') as fin:\n",
        "     rows = ( line.split('\\t') for line in fin )\n",
        "     slang_dict = { row[0]:row[1:] for row in rows }\n",
        "\n",
        "\n",
        "keys_values = slang_dict.items()\n",
        "\n",
        "\n",
        "slang_dict = {str(key): str(value).replace(\"\\\\xa0\",' ').replace('\\\\n\"]','').replace('[\"','').replace(\"['\",'').replace(\"\\\\n']\",'').replace(\"']\",'') for key, value in keys_values}"
      ],
      "metadata": {
        "id": "MXv7TP1Sra_n"
      },
      "execution_count": 31,
      "outputs": []
    },
    {
      "cell_type": "code",
      "source": [
        "load_model = spacy.load('en', disable = ['parser','ner']) # lemmatization using spacy\n",
        "\n",
        "def preprocess(tweet):\n",
        "    \n",
        "    for slang in slang_dict: # slang conversion to classical english\n",
        "      string=' '+slang+' '\n",
        "      tweet = tweet.replace(string, ' '+slang_dict[slang]+' ')    \n",
        "    tweet = re.sub('&amp|&', 'and', tweet) # replace & by and\n",
        "    tweet = re.sub('@\\w+', 'mention', tweet) #replace any mention with mention\n",
        "    tweet = re.sub(' \\d+ ', ' Digits ', tweet) # replace digits\n",
        "    tweet = re.sub('\\d+','', tweet)\n",
        "    # hashtaglist = re.findall('#\\w+',tweet)\n",
        "    # for hashtag in hashtaglist:\n",
        "        # tweet = re.sub(hashtag, ws.segment([hashtag])[0], tweet) # replace hashtags with segmented words\n",
        "   \n",
        "\n",
        "    for emot in UNICODE_EMOJI: # emoji conversion to text\n",
        "        tweet = tweet.replace(emot, ' '.join(UNICODE_EMOJI[emot].replace(',',' ').replace('_',' ').replace(':','').split()))   \n",
        "    for emot in EMOTICONS_EMO:\n",
        "        tweet = tweet.replace(emot, ' '.join(EMOTICONS_EMO[emot].replace('_',' ').replace(',','').split()))\n",
        "    for slang in slang_dict: # slang conversion to classical english\n",
        "      string1=' '+slang+' '\n",
        "      tweet = tweet.replace(string1, ' '+slang_dict[slang]+' ')\n",
        "    import string\n",
        "    for character in string.punctuation:\n",
        "      tweet = tweet.replace(character, '') #remove punctuation\n",
        "    # load_model = spacy.load('en', disable = ['parser','ner']) # lemmatization using spacy\n",
        "    doc = load_model(tweet) # \n",
        "    tweet=\" \".join([token.lemma_ for token in doc])\n",
        "    tweet_tokenized = word_tokenize(tweet)\n",
        "    tweet = [w for w in tweet_tokenized if not w.lower() in stopwords.words(\"english\")] # removing stopwords\n",
        "    return tweet"
      ],
      "metadata": {
        "id": "lzIXKU3Krsxz"
      },
      "execution_count": 33,
      "outputs": []
    },
    {
      "cell_type": "code",
      "source": [
        "xtrain=train_df['text'].apply(preprocess)\n",
        "ytrain=train_df['HS']\n",
        "xtest = test_df['text'].apply(preprocess)\n",
        "ytest = test_df['HS']\n",
        "xval = val_df['text'].apply(preprocess)\n",
        "yval = val_df['HS']"
      ],
      "metadata": {
        "id": "E8cp8db8rtxo"
      },
      "execution_count": 34,
      "outputs": []
    },
    {
      "cell_type": "code",
      "source": [
        "xtrain_sents = xtrain.apply(lambda x:\" \".join(x))\n",
        "xtest_sents = xtest.apply(lambda x:\" \".join(x))\n",
        "xval_sents = xval.apply(lambda x:\" \".join(x))\n"
      ],
      "metadata": {
        "id": "AfgdygHarv9H"
      },
      "execution_count": 35,
      "outputs": []
    },
    {
      "cell_type": "code",
      "source": [
        "tok = Tokenizer()\n",
        "tok.fit_on_texts(xtrain_sents)\n",
        "word_seq_train = tok.texts_to_sequences(xtrain_sents)\n",
        "word_seq_test = tok.texts_to_sequences(xtest_sents)\n",
        "word_seq_val = tok.texts_to_sequences(xval_sents)\n",
        "\n",
        "word_index = tok.word_index\n",
        "\n",
        "word_seq_train = pad_sequences(word_seq_train, maxlen = 60)\n",
        "word_seq_test = pad_sequences(word_seq_test, maxlen = 60)\n",
        "word_seq_val = pad_sequences(word_seq_val, maxlen = 60)\n"
      ],
      "metadata": {
        "id": "Q9cFblVurxD2"
      },
      "execution_count": 36,
      "outputs": []
    },
    {
      "cell_type": "code",
      "source": [
        "ft_dict = {}\n",
        "for tweet in xtrain:\n",
        "  for word in tweet:\n",
        "    if word not in ft_dict:\n",
        "      ft_dict[word] = ft.get_word_vector(word)"
      ],
      "metadata": {
        "id": "JmQOGZ-YrzX1"
      },
      "execution_count": 37,
      "outputs": []
    },
    {
      "cell_type": "code",
      "source": [
        "words_not_found = []\n",
        "nb_words = len(word_index)+1\n",
        "embed_dim=300\n",
        "embedding_matrix = np.zeros((nb_words, embed_dim))\n",
        "for word, i in word_index.items():\n",
        "  if i >= nb_words:\n",
        "     continue\n",
        "  embedding_vector = ft_dict.get(word)\n",
        "  \n",
        "  if (embedding_vector is not None) and len(embedding_vector) > 0:\n",
        "     embedding_matrix[i] = embedding_vector\n",
        "  else:\n",
        "     words_not_found.append(word)\n",
        "print('number of null word embeddings: %d' % np.sum(np.sum(embedding_matrix, axis=1) == 0))"
      ],
      "metadata": {
        "colab": {
          "base_uri": "https://localhost:8080/"
        },
        "id": "UaMkkrhprzxk",
        "outputId": "6250674d-ec16-4a24-9ad8-eebde32ba038"
      },
      "execution_count": 38,
      "outputs": [
        {
          "output_type": "stream",
          "name": "stdout",
          "text": [
            "number of null word embeddings: 6440\n"
          ]
        }
      ]
    },
    {
      "cell_type": "code",
      "source": [
        "model = Sequential()\n",
        "model.add(Embedding(nb_words, embed_dim, input_length=60, weights=[embedding_matrix], trainable=False))\n",
        "model.add(LSTM(32, return_sequences=False))\n",
        "model.add(Dropout(0.2))\n",
        "model.add(Dense(1, activation='sigmoid'))\n",
        "model.summary()"
      ],
      "metadata": {
        "colab": {
          "base_uri": "https://localhost:8080/"
        },
        "id": "NFeXwjLmr1rB",
        "outputId": "7671329c-130c-4746-a37b-1cd08d891123"
      },
      "execution_count": 39,
      "outputs": [
        {
          "output_type": "stream",
          "name": "stdout",
          "text": [
            "Model: \"sequential\"\n",
            "_________________________________________________________________\n",
            " Layer (type)                Output Shape              Param #   \n",
            "=================================================================\n",
            " embedding (Embedding)       (None, 60, 300)           6193500   \n",
            "                                                                 \n",
            " lstm (LSTM)                 (None, 32)                42624     \n",
            "                                                                 \n",
            " dropout (Dropout)           (None, 32)                0         \n",
            "                                                                 \n",
            " dense (Dense)               (None, 1)                 33        \n",
            "                                                                 \n",
            "=================================================================\n",
            "Total params: 6,236,157\n",
            "Trainable params: 42,657\n",
            "Non-trainable params: 6,193,500\n",
            "_________________________________________________________________\n"
          ]
        }
      ]
    },
    {
      "cell_type": "code",
      "source": [
        "model.compile(loss='binary_crossentropy', optimizer='adam', metrics=['accuracy'])"
      ],
      "metadata": {
        "id": "ools68vvr3Fs"
      },
      "execution_count": 40,
      "outputs": []
    },
    {
      "cell_type": "code",
      "source": [
        "history = model.fit(word_seq_train, ytrain, batch_size=128, epochs=30, validation_data=(word_seq_test, ytest), shuffle=False)"
      ],
      "metadata": {
        "colab": {
          "base_uri": "https://localhost:8080/"
        },
        "id": "r2uNEL-Gr4Y0",
        "outputId": "67967bf9-4388-468a-8115-563f15d24674"
      },
      "execution_count": 41,
      "outputs": [
        {
          "output_type": "stream",
          "name": "stdout",
          "text": [
            "Epoch 1/30\n",
            "71/71 [==============================] - 9s 94ms/step - loss: 0.7404 - accuracy: 0.5269 - val_loss: 0.6952 - val_accuracy: 0.5099\n",
            "Epoch 2/30\n",
            "71/71 [==============================] - 6s 84ms/step - loss: 0.6527 - accuracy: 0.6017 - val_loss: 0.6959 - val_accuracy: 0.5086\n",
            "Epoch 3/30\n",
            "71/71 [==============================] - 6s 85ms/step - loss: 0.6359 - accuracy: 0.6372 - val_loss: 0.6990 - val_accuracy: 0.5039\n",
            "Epoch 4/30\n",
            "71/71 [==============================] - 6s 85ms/step - loss: 0.6316 - accuracy: 0.6472 - val_loss: 0.7021 - val_accuracy: 0.5022\n",
            "Epoch 5/30\n",
            "71/71 [==============================] - 6s 85ms/step - loss: 0.6258 - accuracy: 0.6488 - val_loss: 0.7044 - val_accuracy: 0.4995\n",
            "Epoch 6/30\n",
            "71/71 [==============================] - 6s 86ms/step - loss: 0.6201 - accuracy: 0.6482 - val_loss: 0.7092 - val_accuracy: 0.4904\n",
            "Epoch 7/30\n",
            "71/71 [==============================] - 6s 85ms/step - loss: 0.5572 - accuracy: 0.7267 - val_loss: 0.8530 - val_accuracy: 0.4214\n",
            "Epoch 8/30\n",
            "71/71 [==============================] - 6s 87ms/step - loss: 0.5552 - accuracy: 0.7247 - val_loss: 0.6772 - val_accuracy: 0.5783\n",
            "Epoch 9/30\n",
            "71/71 [==============================] - 6s 91ms/step - loss: 0.5607 - accuracy: 0.7070 - val_loss: 0.7947 - val_accuracy: 0.4581\n",
            "Epoch 10/30\n",
            "71/71 [==============================] - 6s 86ms/step - loss: 0.5028 - accuracy: 0.7642 - val_loss: 0.8370 - val_accuracy: 0.4514\n",
            "Epoch 11/30\n",
            "71/71 [==============================] - 6s 86ms/step - loss: 0.5518 - accuracy: 0.7584 - val_loss: 1.5079 - val_accuracy: 0.5786\n",
            "Epoch 12/30\n",
            "71/71 [==============================] - 6s 87ms/step - loss: 0.8727 - accuracy: 0.5009 - val_loss: 0.6774 - val_accuracy: 0.5826\n",
            "Epoch 13/30\n",
            "71/71 [==============================] - 6s 87ms/step - loss: 0.7130 - accuracy: 0.4971 - val_loss: 0.6811 - val_accuracy: 0.5608\n",
            "Epoch 14/30\n",
            "71/71 [==============================] - 6s 87ms/step - loss: 0.6895 - accuracy: 0.5366 - val_loss: 0.6840 - val_accuracy: 0.5523\n",
            "Epoch 15/30\n",
            "71/71 [==============================] - 6s 86ms/step - loss: 0.6762 - accuracy: 0.5611 - val_loss: 0.6883 - val_accuracy: 0.5416\n",
            "Epoch 16/30\n",
            "71/71 [==============================] - 6s 88ms/step - loss: 0.6614 - accuracy: 0.5841 - val_loss: 0.6943 - val_accuracy: 0.5271\n",
            "Epoch 17/30\n",
            "71/71 [==============================] - 6s 86ms/step - loss: 0.6525 - accuracy: 0.6000 - val_loss: 0.7002 - val_accuracy: 0.5210\n",
            "Epoch 18/30\n",
            "71/71 [==============================] - 6s 87ms/step - loss: 0.6460 - accuracy: 0.6142 - val_loss: 0.7052 - val_accuracy: 0.5093\n",
            "Epoch 19/30\n",
            "71/71 [==============================] - 6s 88ms/step - loss: 0.6411 - accuracy: 0.6297 - val_loss: 0.7114 - val_accuracy: 0.4965\n",
            "Epoch 20/30\n",
            "71/71 [==============================] - 6s 87ms/step - loss: 0.6346 - accuracy: 0.6358 - val_loss: 0.7186 - val_accuracy: 0.4897\n",
            "Epoch 21/30\n",
            "71/71 [==============================] - 6s 87ms/step - loss: 0.6294 - accuracy: 0.6461 - val_loss: 0.7196 - val_accuracy: 0.4911\n",
            "Epoch 22/30\n",
            "71/71 [==============================] - 6s 86ms/step - loss: 0.6231 - accuracy: 0.6547 - val_loss: 0.7205 - val_accuracy: 0.4958\n",
            "Epoch 23/30\n",
            "71/71 [==============================] - 6s 86ms/step - loss: 0.6455 - accuracy: 0.6416 - val_loss: 0.7429 - val_accuracy: 0.4736\n",
            "Epoch 24/30\n",
            "71/71 [==============================] - 6s 88ms/step - loss: 0.6190 - accuracy: 0.6569 - val_loss: 0.7414 - val_accuracy: 0.4753\n",
            "Epoch 25/30\n",
            "71/71 [==============================] - 6s 87ms/step - loss: 0.6071 - accuracy: 0.6709 - val_loss: 0.7407 - val_accuracy: 0.4894\n",
            "Epoch 26/30\n",
            "71/71 [==============================] - 6s 88ms/step - loss: 0.5971 - accuracy: 0.6770 - val_loss: 0.7464 - val_accuracy: 0.4924\n",
            "Epoch 27/30\n",
            "71/71 [==============================] - 6s 87ms/step - loss: 0.5777 - accuracy: 0.6967 - val_loss: 0.7297 - val_accuracy: 0.5173\n",
            "Epoch 28/30\n",
            "71/71 [==============================] - 6s 87ms/step - loss: 0.5772 - accuracy: 0.7002 - val_loss: 0.7178 - val_accuracy: 0.5429\n",
            "Epoch 29/30\n",
            "71/71 [==============================] - 6s 87ms/step - loss: 0.5323 - accuracy: 0.7331 - val_loss: 0.6904 - val_accuracy: 0.5833\n",
            "Epoch 30/30\n",
            "71/71 [==============================] - 10s 136ms/step - loss: 0.5175 - accuracy: 0.7546 - val_loss: 0.7044 - val_accuracy: 0.5880\n"
          ]
        }
      ]
    },
    {
      "cell_type": "code",
      "source": [
        "plt.plot(history.history['loss'], label='train')\n",
        "plt.plot(history.history['val_loss'], label='test')\n",
        "plt.title('Loss')\n",
        "plt.legend()\n",
        "plt.xlabel('Epoch')\n",
        "plt.show()"
      ],
      "metadata": {
        "colab": {
          "base_uri": "https://localhost:8080/",
          "height": 294
        },
        "id": "QPlQhyAPr40j",
        "outputId": "5b6ff506-1087-48fe-dd54-543c0c854da1"
      },
      "execution_count": 42,
      "outputs": [
        {
          "output_type": "display_data",
          "data": {
            "text/plain": [
              "<Figure size 432x288 with 1 Axes>"
            ],
            "image/png": "[encoded data removed]"
          },
          "metadata": {
            "needs_background": "light"
          }
        }
      ]
    },
    {
      "cell_type": "code",
      "source": [
        "plt.plot(history.history['accuracy'], label='train')\n",
        "plt.plot(history.history['val_accuracy'], label='test')\n",
        "plt.title('Accuracy')\n",
        "plt.xlabel('Epoch')\n",
        "plt.legend()\n",
        "plt.show()"
      ],
      "metadata": {
        "colab": {
          "base_uri": "https://localhost:8080/",
          "height": 294
        },
        "id": "s7lYrLbhr6Iw",
        "outputId": "8961e2a9-165a-423b-bf9d-fea8282dfcfa"
      },
      "execution_count": 43,
      "outputs": [
        {
          "output_type": "display_data",
          "data": {
            "text/plain": [
              "<Figure size 432x288 with 1 Axes>"
            ],
            "image/png": "[encoded data removed]"
          },
          "metadata": {
            "needs_background": "light"
          }
        }
      ]
    },
    {
      "cell_type": "code",
      "source": [
        "ypred = model.predict(word_seq_test)\n",
        "ypred = ypred.round(0).astype('int')"
      ],
      "metadata": {
        "id": "5VBKmi_hr7N-"
      },
      "execution_count": 44,
      "outputs": []
    },
    {
      "cell_type": "code",
      "source": [
        "print(classification_report(ypred, ytest))"
      ],
      "metadata": {
        "colab": {
          "base_uri": "https://localhost:8080/"
        },
        "id": "Qm1_W0x0sRsB",
        "outputId": "2b91c883-3bae-4894-fc21-5b37f38e2b21"
      },
      "execution_count": 45,
      "outputs": [
        {
          "output_type": "stream",
          "name": "stdout",
          "text": [
            "              precision    recall  f1-score   support\n",
            "\n",
            "           0       0.60      0.66      0.63      1563\n",
            "           1       0.57      0.51      0.54      1408\n",
            "\n",
            "    accuracy                           0.59      2971\n",
            "   macro avg       0.59      0.58      0.58      2971\n",
            "weighted avg       0.59      0.59      0.59      2971\n",
            "\n"
          ]
        }
      ]
    },
    {
      "cell_type": "code",
      "source": [
        "lstm_mat = confusion_matrix(ytest, ypred)\n",
        "fig, ax = plt.subplots(figsize = (7.5, 7.5))\n",
        "ax.matshow(lstm_mat, cmap=plt.cm.Blues, alpha=0.3)\n",
        "for i in range(lstm_mat.shape[0]):\n",
        "    for j in range(lstm_mat.shape[1]):\n",
        "        ax.text(x=j, y=i, s=lstm_mat[i, j], va='center', ha='center', size='xx-large')\n",
        "\n",
        "plt.xlabel('Test Values', fontsize=17)\n",
        "plt.ylabel('Predicted Values', fontsize=17)\n",
        "plt.title('LSTM Confusion Matrix', fontsize=20)\n",
        "#plt.savefig('SVM_Matrix')\n",
        "plt.show()"
      ],
      "metadata": {
        "colab": {
          "base_uri": "https://localhost:8080/",
          "height": 502
        },
        "id": "EYytf5vcsSNY",
        "outputId": "b7493524-8975-4d6c-dd8b-997ca9bfe635"
      },
      "execution_count": 46,
      "outputs": [
        {
          "output_type": "display_data",
          "data": {
            "text/plain": [
              "<Figure size 540x540 with 1 Axes>"
            ],
            "image/png": "[encoded data removed]"
          },
          "metadata": {
            "needs_background": "light"
          }
        }
      ]
    }
  ]
}